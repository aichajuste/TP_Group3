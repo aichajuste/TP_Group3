{
 "cells": [
  {
   "cell_type": "code",
   "execution_count": 3,
   "id": "9bf78fc4",
   "metadata": {},
   "outputs": [
    {
     "name": "stdout",
     "output_type": "stream",
     "text": [
      "4\n",
      "[9, 5, 1]\n",
      "[9, 16, 2, 2]\n"
     ]
    }
   ],
   "source": [
    "carre3=[[2,7,3],[9,5,1],[4,3,8]]\n",
    "carre4=[[4,5,11,14],[15,10,8,1],[6,3,13,12],[9,16,2,2]]\n",
    "print(len(carre4))\n",
    "print(carre3[1])\n",
    "print(carre4[3])"
   ]
  },
  {
   "cell_type": "code",
   "execution_count": null,
   "id": "3f6403fd",
   "metadata": {},
   "outputs": [],
   "source": []
  },
  {
   "cell_type": "code",
   "execution_count": null,
   "id": "27c419b5",
   "metadata": {},
   "outputs": [],
   "source": [
    "l=[0,1,2,3,4,5,6,7,8,9]\n"
   ]
  }
 ],
 "metadata": {
  "kernelspec": {
   "display_name": "Python 3",
   "language": "python",
   "name": "python3"
  },
  "language_info": {
   "codemirror_mode": {
    "name": "ipython",
    "version": 3
   },
   "file_extension": ".py",
   "mimetype": "text/x-python",
   "name": "python",
   "nbconvert_exporter": "python",
   "pygments_lexer": "ipython3",
   "version": "3.8.8"
  }
 },
 "nbformat": 4,
 "nbformat_minor": 5
}
